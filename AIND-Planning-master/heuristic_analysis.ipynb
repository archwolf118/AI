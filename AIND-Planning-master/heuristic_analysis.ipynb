{
 "cells": [
  {
   "cell_type": "markdown",
   "metadata": {
    "collapsed": true
   },
   "source": [
    "# Heuristic Analysis for Air Cargo Problem\n",
    "## Problem\n",
    "Provide an optimal plan for Problem 1, 2 and 3. The details of problem are in README.md, which is provided by Udacity, and my code is in \"my_air_cargo_problems.py\" and \"my_planning_graph.py\"."
   ]
  },
  {
   "cell_type": "code",
   "execution_count": 60,
   "metadata": {
    "collapsed": true
   },
   "outputs": [],
   "source": [
    "import numpy as np\n",
    "import pandas as pd"
   ]
  },
  {
   "cell_type": "markdown",
   "metadata": {},
   "source": [
    "## Compare non-heuristic search metrics\n"
   ]
  },
  {
   "cell_type": "markdown",
   "metadata": {},
   "source": [
    "I choose 3 search methods for comparing: \"breadth_first_search\", \"depth_first_graph_search\" and \"uniform_cost_search.\"\n",
    "The results is below:"
   ]
  },
  {
   "cell_type": "code",
   "execution_count": 71,
   "metadata": {},
   "outputs": [
    {
     "data": {
      "text/html": [
       "<div>\n",
       "<style>\n",
       "    .dataframe thead tr:only-child th {\n",
       "        text-align: right;\n",
       "    }\n",
       "\n",
       "    .dataframe thead th {\n",
       "        text-align: left;\n",
       "    }\n",
       "\n",
       "    .dataframe tbody tr th {\n",
       "        vertical-align: top;\n",
       "    }\n",
       "</style>\n",
       "<table border=\"1\" class=\"dataframe\">\n",
       "  <thead>\n",
       "    <tr style=\"text-align: right;\">\n",
       "      <th></th>\n",
       "      <th>Expansions</th>\n",
       "      <th>Goal_Tests</th>\n",
       "      <th>New_Nodes</th>\n",
       "      <th>Plan_length</th>\n",
       "      <th>Time/s</th>\n",
       "    </tr>\n",
       "  </thead>\n",
       "  <tbody>\n",
       "    <tr>\n",
       "      <th>problem_1:breadth_first</th>\n",
       "      <td>43</td>\n",
       "      <td>56</td>\n",
       "      <td>180</td>\n",
       "      <td>6</td>\n",
       "      <td>0.027</td>\n",
       "    </tr>\n",
       "    <tr>\n",
       "      <th>problem_1:depth_first</th>\n",
       "      <td>21</td>\n",
       "      <td>22</td>\n",
       "      <td>84</td>\n",
       "      <td>20</td>\n",
       "      <td>0.013</td>\n",
       "    </tr>\n",
       "    <tr>\n",
       "      <th>problem_1:uniform_cost</th>\n",
       "      <td>55</td>\n",
       "      <td>57</td>\n",
       "      <td>224</td>\n",
       "      <td>6</td>\n",
       "      <td>0.033</td>\n",
       "    </tr>\n",
       "    <tr>\n",
       "      <th>problem_2:breadth_first</th>\n",
       "      <td>3343</td>\n",
       "      <td>4609</td>\n",
       "      <td>30509</td>\n",
       "      <td>9</td>\n",
       "      <td>11.237</td>\n",
       "    </tr>\n",
       "    <tr>\n",
       "      <th>problem_2:depth_first</th>\n",
       "      <td>624</td>\n",
       "      <td>625</td>\n",
       "      <td>5602</td>\n",
       "      <td>619</td>\n",
       "      <td>2.767</td>\n",
       "    </tr>\n",
       "    <tr>\n",
       "      <th>problem_2:uniform_cost</th>\n",
       "      <td>4853</td>\n",
       "      <td>4855</td>\n",
       "      <td>44041</td>\n",
       "      <td>9</td>\n",
       "      <td>9.701</td>\n",
       "    </tr>\n",
       "    <tr>\n",
       "      <th>problem_3:breadth_first</th>\n",
       "      <td>14663</td>\n",
       "      <td>18098</td>\n",
       "      <td>128605</td>\n",
       "      <td>12</td>\n",
       "      <td>79.519</td>\n",
       "    </tr>\n",
       "    <tr>\n",
       "      <th>problem_3:depth_first</th>\n",
       "      <td>408</td>\n",
       "      <td>409</td>\n",
       "      <td>3364</td>\n",
       "      <td>392</td>\n",
       "      <td>1.432</td>\n",
       "    </tr>\n",
       "    <tr>\n",
       "      <th>problem_3:uniform_cost</th>\n",
       "      <td>18223</td>\n",
       "      <td>18225</td>\n",
       "      <td>158174</td>\n",
       "      <td>12</td>\n",
       "      <td>42.641</td>\n",
       "    </tr>\n",
       "  </tbody>\n",
       "</table>\n",
       "</div>"
      ],
      "text/plain": [
       "                         Expansions  Goal_Tests  New_Nodes  Plan_length  \\\n",
       "problem_1:breadth_first          43          56        180            6   \n",
       "problem_1:depth_first            21          22         84           20   \n",
       "problem_1:uniform_cost           55          57        224            6   \n",
       "problem_2:breadth_first        3343        4609      30509            9   \n",
       "problem_2:depth_first           624         625       5602          619   \n",
       "problem_2:uniform_cost         4853        4855      44041            9   \n",
       "problem_3:breadth_first       14663       18098     128605           12   \n",
       "problem_3:depth_first           408         409       3364          392   \n",
       "problem_3:uniform_cost        18223       18225     158174           12   \n",
       "\n",
       "                         Time/s  \n",
       "problem_1:breadth_first   0.027  \n",
       "problem_1:depth_first     0.013  \n",
       "problem_1:uniform_cost    0.033  \n",
       "problem_2:breadth_first  11.237  \n",
       "problem_2:depth_first     2.767  \n",
       "problem_2:uniform_cost    9.701  \n",
       "problem_3:breadth_first  79.519  \n",
       "problem_3:depth_first     1.432  \n",
       "problem_3:uniform_cost   42.641  "
      ]
     },
     "execution_count": 71,
     "metadata": {},
     "output_type": "execute_result"
    }
   ],
   "source": [
    "df_1 = pd.DataFrame({'Expansions':[43,21,55,3343,624,4853,14663,408,18223],\n",
    "                     'Goal_Tests':[56,22,57,4609,625,4855,18098,409,18225],\n",
    "                    \"New_Nodes\":[180,84,224,30509,5602,44041,128605,3364,158174],\n",
    "                    \"Plan_length\":[6,20,6,9,619,9,12,392,12],\n",
    "                    \"Time/s\":[0.027,0.013,0.033,11.237,2.767,9.701,79.519,1.432,42.641]},\n",
    "                  index=[\"problem_1:breadth_first\",\"problem_1:depth_first\",\"problem_1:uniform_cost\",\n",
    "                         \"problem_2:breadth_first\",\"problem_2:depth_first\",\"problem_2:uniform_cost\",\n",
    "                         \"problem_3:breadth_first\",\"problem_3:depth_first\",\"problem_3:uniform_cost\"])\n",
    "df_1"
   ]
  },
  {
   "cell_type": "markdown",
   "metadata": {},
   "source": [
    "What we care about is the plan length and time-consuming of the algorithm. Depth first search is unacceptable, although it is fast, the plan length is not optimal. Breadth first search and Uniform cost search show the same plan length, and uniform cost search is faster than breadth first search."
   ]
  },
  {
   "cell_type": "markdown",
   "metadata": {},
   "source": [
    "## Compare heuristic search metrics\n",
    "I use A* search with the \"ignore preconditions\" and \"level-sum\" heuristics for Problems 1, 2, and 3. The caculation results is below:"
   ]
  },
  {
   "cell_type": "code",
   "execution_count": 72,
   "metadata": {},
   "outputs": [
    {
     "data": {
      "text/html": [
       "<div>\n",
       "<style>\n",
       "    .dataframe thead tr:only-child th {\n",
       "        text-align: right;\n",
       "    }\n",
       "\n",
       "    .dataframe thead th {\n",
       "        text-align: left;\n",
       "    }\n",
       "\n",
       "    .dataframe tbody tr th {\n",
       "        vertical-align: top;\n",
       "    }\n",
       "</style>\n",
       "<table border=\"1\" class=\"dataframe\">\n",
       "  <thead>\n",
       "    <tr style=\"text-align: right;\">\n",
       "      <th></th>\n",
       "      <th>Expansions</th>\n",
       "      <th>Goal_Tests</th>\n",
       "      <th>New_Nodes</th>\n",
       "      <th>Plan_length</th>\n",
       "      <th>Time/s</th>\n",
       "    </tr>\n",
       "  </thead>\n",
       "  <tbody>\n",
       "    <tr>\n",
       "      <th>problem_1:ignore-preconditions</th>\n",
       "      <td>41</td>\n",
       "      <td>43</td>\n",
       "      <td>170</td>\n",
       "      <td>6</td>\n",
       "      <td>0.034</td>\n",
       "    </tr>\n",
       "    <tr>\n",
       "      <th>problem_1:level-sum</th>\n",
       "      <td>11</td>\n",
       "      <td>13</td>\n",
       "      <td>50</td>\n",
       "      <td>6</td>\n",
       "      <td>0.520</td>\n",
       "    </tr>\n",
       "    <tr>\n",
       "      <th>problem_2:ignore preconditions</th>\n",
       "      <td>1450</td>\n",
       "      <td>1452</td>\n",
       "      <td>13303</td>\n",
       "      <td>9</td>\n",
       "      <td>3.430</td>\n",
       "    </tr>\n",
       "    <tr>\n",
       "      <th>problem_2:level-sum</th>\n",
       "      <td>86</td>\n",
       "      <td>88</td>\n",
       "      <td>841</td>\n",
       "      <td>9</td>\n",
       "      <td>64.820</td>\n",
       "    </tr>\n",
       "    <tr>\n",
       "      <th>problem_3:ignore preconditions</th>\n",
       "      <td>5040</td>\n",
       "      <td>5042</td>\n",
       "      <td>44769</td>\n",
       "      <td>12</td>\n",
       "      <td>13.760</td>\n",
       "    </tr>\n",
       "    <tr>\n",
       "      <th>problem_3:level-sum</th>\n",
       "      <td>403</td>\n",
       "      <td>405</td>\n",
       "      <td>3703</td>\n",
       "      <td>12</td>\n",
       "      <td>550.440</td>\n",
       "    </tr>\n",
       "  </tbody>\n",
       "</table>\n",
       "</div>"
      ],
      "text/plain": [
       "                                Expansions  Goal_Tests  New_Nodes  \\\n",
       "problem_1:ignore-preconditions          41          43        170   \n",
       "problem_1:level-sum                     11          13         50   \n",
       "problem_2:ignore preconditions        1450        1452      13303   \n",
       "problem_2:level-sum                     86          88        841   \n",
       "problem_3:ignore preconditions        5040        5042      44769   \n",
       "problem_3:level-sum                    403         405       3703   \n",
       "\n",
       "                                Plan_length   Time/s  \n",
       "problem_1:ignore-preconditions            6    0.034  \n",
       "problem_1:level-sum                       6    0.520  \n",
       "problem_2:ignore preconditions            9    3.430  \n",
       "problem_2:level-sum                       9   64.820  \n",
       "problem_3:ignore preconditions           12   13.760  \n",
       "problem_3:level-sum                      12  550.440  "
      ]
     },
     "execution_count": 72,
     "metadata": {},
     "output_type": "execute_result"
    }
   ],
   "source": [
    "df_2 = pd.DataFrame({'Expansions':[41,11,1450,86,5040,403],\n",
    "                   'Goal_Tests':[43,13,1452,88,5042,405],\n",
    "                   \"New_Nodes\":[170,50,13303,841,44769,3703],\n",
    "                   \"Plan_length\":[6,6,9,9,12,12],\n",
    "                   \"Time/s\":[0.034,0.52,3.43,64.82,13.76,550.44]},\n",
    "                  index=[\"problem_1:ignore-preconditions\",\"problem_1:level-sum\",\n",
    "                         \"problem_2:ignore preconditions\",\"problem_2:level-sum\",\n",
    "                         \"problem_3:ignore preconditions\",\"problem_3:level-sum\"])\n",
    "df_2"
   ]
  },
  {
   "cell_type": "markdown",
   "metadata": {},
   "source": [
    "The two heuristics A\\* search give same plan length for each problem, but “level-sum” is slower than \"ignore preconditions\", especially “level-sum” spends about 550 seconds to solve Problem3. The \"ignore preconditions\" A\\* search is also better than “uniform_cost” search in computation speed. The results show that using suitable heuristics can help us to find the solution faster. All in all, I recommend \"ignore preconditions\" A\\* search for air cargo problems."
   ]
  },
  {
   "cell_type": "markdown",
   "metadata": {},
   "source": [
    "## Optimal plan\n",
    "I use \"ignore preconditions\" A\\* search to compute the optimal plan for Problem 1,2 and3.\n",
    "### Optimal plan of Problem 1\n",
    "Load(C1, P1, SFO)   \n",
    "Fly(P1, SFO, JFK)   \n",
    "Unload(C1, P1, JFK)   \n",
    "Load(C2, P2, JFK)   \n",
    "Fly(P2, JFK, SFO)   \n",
    "Unload(C2, P2, SFO)\n",
    "### Optimal plan of Problem 2\n",
    "Load(C3, P3, ATL)  \n",
    "Fly(P3, ATL, SFO)  \n",
    "Unload(C3, P3, SFO)  \n",
    "Load(C1, P1, SFO)  \n",
    "Fly(P1, SFO, JFK)  \n",
    "Unload(C1, P1, JFK)  \n",
    "Load(C2, P2, JFK)  \n",
    "Fly(P2, JFK, SFO)  \n",
    "Unload(C2, P2, SFO)\n",
    "### Optimal plan of Problem 3\n",
    "Load(C2, P2, JFK)  \n",
    "Fly(P2, JFK, ORD)  \n",
    "Load(C4, P2, ORD)  \n",
    "Fly(P2, ORD, SFO)  \n",
    "Unload(C4, P2, SFO)  \n",
    "Load(C1, P1, SFO)  \n",
    "Fly(P1, SFO, ATL)  \n",
    "Load(C3, P1, ATL)  \n",
    "Fly(P1, ATL, JFK)  \n",
    "Unload(C3, P1, JFK)  \n",
    "Unload(C2, P2, SFO)  \n",
    "Unload(C1, P1, JFK)"
   ]
  },
  {
   "cell_type": "code",
   "execution_count": null,
   "metadata": {
    "collapsed": true
   },
   "outputs": [],
   "source": []
  }
 ],
 "metadata": {
  "kernelspec": {
   "display_name": "Python 2",
   "language": "python",
   "name": "python2"
  },
  "language_info": {
   "codemirror_mode": {
    "name": "ipython",
    "version": 2
   },
   "file_extension": ".py",
   "mimetype": "text/x-python",
   "name": "python",
   "nbconvert_exporter": "python",
   "pygments_lexer": "ipython2",
   "version": "2.7.13"
  }
 },
 "nbformat": 4,
 "nbformat_minor": 2
}
